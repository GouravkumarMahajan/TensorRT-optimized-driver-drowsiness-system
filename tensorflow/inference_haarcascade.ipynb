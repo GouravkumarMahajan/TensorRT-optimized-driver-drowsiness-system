{
 "cells": [
  {
   "cell_type": "code",
   "execution_count": 1,
   "metadata": {},
   "outputs": [
    {
     "name": "stderr",
     "output_type": "stream",
     "text": [
      "2024-10-03 21:47:45.239090: E tensorflow/compiler/xla/stream_executor/cuda/cuda_dnn.cc:9342] Unable to register cuDNN factory: Attempting to register factory for plugin cuDNN when one has already been registered\n",
      "2024-10-03 21:47:45.239151: E tensorflow/compiler/xla/stream_executor/cuda/cuda_fft.cc:609] Unable to register cuFFT factory: Attempting to register factory for plugin cuFFT when one has already been registered\n",
      "2024-10-03 21:47:45.241435: E tensorflow/compiler/xla/stream_executor/cuda/cuda_blas.cc:1518] Unable to register cuBLAS factory: Attempting to register factory for plugin cuBLAS when one has already been registered\n",
      "2024-10-03 21:47:45.456456: I tensorflow/core/platform/cpu_feature_guard.cc:182] This TensorFlow binary is optimized to use available CPU instructions in performance-critical operations.\n",
      "To enable the following instructions: AVX2 FMA, in other operations, rebuild TensorFlow with the appropriate compiler flags.\n"
     ]
    }
   ],
   "source": [
    "import os\n",
    "import numpy as np\n",
    "import tensorflow as tf\n",
    "from tensorflow.keras.preprocessing.image import ImageDataGenerator\n",
    "from tensorflow.keras.applications import MobileNet, VGG16\n",
    "from tensorflow.keras.layers import Dense, Conv2D, MaxPool2D, Flatten, Dropout, BatchNormalization, GlobalAveragePooling2D\n",
    "from tensorflow.keras.models import Sequential, Model\n",
    "from tensorflow.keras.optimizers import Adam\n",
    "import cv2\n",
    "import matplotlib.pyplot as plt\n",
    "from scipy.integrate import simps\n",
    "from sklearn.metrics import classification_report, confusion_matrix, roc_curve, auc\n",
    "from tensorflow.keras.utils import plot_model\n",
    "from tensorflow.keras import regularizers\n",
    "import matplotlib.pyplot as plt\n",
    "from mtcnn.mtcnn import MTCNN \n",
    "from matplotlib.patches import Rectangle\n",
    "from matplotlib.patches import Circle\n",
    "import visualkeras\n",
    "import matplotlib.pyplot as plt\n",
    "from mtcnn import MTCNN  \n",
    "from matplotlib.patches import Rectangle, Circle"
   ]
  },
  {
   "cell_type": "code",
   "execution_count": 2,
   "metadata": {},
   "outputs": [
    {
     "data": {
      "text/plain": [
       "'2.14.0'"
      ]
     },
     "execution_count": 2,
     "metadata": {},
     "output_type": "execute_result"
    }
   ],
   "source": [
    "tf.__version__"
   ]
  },
  {
   "cell_type": "code",
   "execution_count": null,
   "metadata": {},
   "outputs": [],
   "source": [
    "path=\"/home/gourav/Desktop/vss/capstone/best_model_mobile.h5\"\n",
    "img_size=224\n",
    "beep_sound_file = \"/home/gourav/Desktop/vss/capstone/beep-01a.wav\"\n",
    "model=tf.keras.models.load_model(path)"
   ]
  },
  {
   "cell_type": "code",
   "execution_count": null,
   "metadata": {},
   "outputs": [],
   "source": [
    "face_cascade=cv2.CascadeClassifier(r'/home/gourav/Desktop/vss/capstone/haarcascade_frontalface_default.xml')\n",
    "cap=cv2.VideoCapture(0)\n",
    "counter=0\n",
    "while True:\n",
    "    ret,frame=cap.read()\n",
    "    \n",
    "    if not ret:\n",
    "        print(\"Error\")\n",
    "        break\n",
    "    \n",
    "    eyes_cascade=cv2.CascadeClassifier(r'/home/gourav/Desktop/vss/capstone/haarcascade_eye_tree_eyeglasses.xml')\n",
    "    gray=cv2.cvtColor(frame,cv2.COLOR_BGR2GRAY)\n",
    "    eyes=eyes_cascade.detectMultiScale(gray,1.1,4)\n",
    "    for (x,y,w,h) in eyes:\n",
    "        roi_gray=gray[y:y+h,x:x+h]\n",
    "        roi_color=frame[y:y+h,x:x+h]\n",
    "        cv2.rectangle(frame,(x,y),(x+w,y+h),(0,255,0),2)\n",
    "        eyess=eyes_cascade.detectMultiScale(roi_gray)\n",
    "        if len(eyess) == 0:\n",
    "            print(\"eyes not found\")\n",
    "        else :\n",
    "            for (ex,ey,ew,eh) in eyess:\n",
    "                eyes_roi=roi_color[ey:ey+eh,ex:ex+ew]\n",
    "\n",
    "    final_image=cv2.resize(eyes_roi,(img_size,img_size))\n",
    "    final_image=np.array(final_image).reshape(1,img_size,img_size,3)# (one image 224,224,3)\n",
    "    final_image=final_image/255.0\n",
    "\n",
    "    prediction=model.predict(final_image)\n",
    "    \n",
    "    if (prediction>0.9):\n",
    "           \n",
    "        x1,y1,w1,h1=0,0,175,75\n",
    "        cv2.rectangle(frame,(x1,y1),(x1+w1,y1+h1),(0,0,0),-1)\n",
    "        cv2.putText(frame,\"Active\",(x1+int(w1/10),y1+int(h1/2)),cv2.FONT_HERSHEY_COMPLEX,1,(0,255,0),2)\n",
    "    else:\n",
    "        counter=counter+1\n",
    "        if counter>5:\n",
    "            x1,y1,w1,h1=0,0,175,75\n",
    "            for i in range(2):\n",
    "                cv2.rectangle(frame,(x1,y1),(x1+w1,y1+h1),(0,0,0),-1)\n",
    "                cv2.putText(frame,\"Sleep alert !!! \",(x1+int(w1/10),y1+int(h1/2)),cv2.FONT_HERSHEY_COMPLEX,1,(0,0,255),2)\n",
    "            counter=0\n",
    "    gray=cv2.cvtColor(frame,cv2.COLOR_BGR2GRAY)\n",
    "    faces=face_cascade.detectMultiScale(gray,1.1,4)\n",
    "    for (x,y,w,h) in faces:\n",
    "        cv2.rectangle(frame,(x,y),(x+w,y+h),(0,255,0),2)\n",
    "        \n",
    "    cv2.imshow(\"driver drowsiness detection\",frame)\n",
    "    if cv2.waitKey(1) & 0xFF == ord('q'):\n",
    "            break\n",
    "    \n",
    "cap.release()\n",
    "cv2.destroyAllWindows()\n"
   ]
  }
 ],
 "metadata": {
  "kernelspec": {
   "display_name": "pythonenv",
   "language": "python",
   "name": "python3"
  },
  "language_info": {
   "codemirror_mode": {
    "name": "ipython",
    "version": 3
   },
   "file_extension": ".py",
   "mimetype": "text/x-python",
   "name": "python",
   "nbconvert_exporter": "python",
   "pygments_lexer": "ipython3",
   "version": "3.10.14"
  }
 },
 "nbformat": 4,
 "nbformat_minor": 2
}
